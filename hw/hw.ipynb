{
 "cells": [
  {
   "cell_type": "markdown",
   "id": "2984cbd0-41cc-4159-a504-27d4318dfc2a",
   "metadata": {},
   "source": [
    "## variable of product inform"
   ]
  },
  {
   "cell_type": "code",
   "execution_count": 79,
   "id": "2beb94a1-2bd1-4d1f-849b-e4d5e4409afc",
   "metadata": {},
   "outputs": [],
   "source": [
    "# create lovely_loveseat_description\n",
    "lovely_loveseat_description = \"Lovely Loveseat. Tufted polyester blend on wood. 32 inches high x 40 inches wide x 30 inches deep. Red or white.\"\n",
    "# create lovely_loveseat_price\n",
    "lovely_loveseat_price = 254.00"
   ]
  },
  {
   "cell_type": "code",
   "execution_count": 80,
   "id": "52336d0a-31d4-4e96-b517-e039978fabf9",
   "metadata": {},
   "outputs": [],
   "source": [
    "# create stylish_settee_description\n",
    "stylish_settee_description = \"Stylish Settee. Faux leather on birch. 29.50 inches high x 54.75 inches wide x 28 inches deep. Black.\"\n",
    "# create stylish_settee_price\n",
    "stylish_settee_price = 180.50"
   ]
  },
  {
   "cell_type": "code",
   "execution_count": 81,
   "id": "6ecc73c8-079a-417a-b04f-dc45e37a95ed",
   "metadata": {},
   "outputs": [],
   "source": [
    "# create luxurious_lamp_description\n",
    "luxurious_lamp_description = \"Luxurious Lamp. Glass and iron. 36 inches tall. Brown with cream shade.\"\n",
    "# create luxurious_lamp_price\n",
    "luxurious_lamp_price = 52.15"
   ]
  },
  {
   "cell_type": "code",
   "execution_count": 82,
   "id": "74ea6824-5382-4736-b7d7-2e35ba8ae6ed",
   "metadata": {},
   "outputs": [],
   "source": [
    "# create sales_tax\n",
    "sales_tax = .088"
   ]
  },
  {
   "cell_type": "markdown",
   "id": "da571e56-672e-45bb-b890-dadcc727332e",
   "metadata": {},
   "source": [
    "## first customer"
   ]
  },
  {
   "cell_type": "code",
   "execution_count": 83,
   "id": "12268f7a-859b-467c-b86d-48056bd545e2",
   "metadata": {},
   "outputs": [],
   "source": [
    "# customer's initial value\n",
    "customer_one_total = 0\n",
    "customer_one_itemization = \"\""
   ]
  },
  {
   "cell_type": "code",
   "execution_count": 84,
   "id": "1d1a6608-9c4d-4dba-912b-2e85ac8c173a",
   "metadata": {},
   "outputs": [],
   "source": [
    "# purchase lovely_loveseat\n",
    "customer_one_total += lovely_loveseat_price\n",
    "customer_one_itemization += lovely_loveseat_description"
   ]
  },
  {
   "cell_type": "code",
   "execution_count": 85,
   "id": "20709422-278e-4f84-a578-78fb2fa2d582",
   "metadata": {},
   "outputs": [],
   "source": [
    "# puchased luxurious_lamp\n",
    "customer_one_total += luxurious_lamp_price\n",
    "customer_one_itemization += luxurious_lamp_description"
   ]
  },
  {
   "cell_type": "code",
   "execution_count": 86,
   "id": "54e500ca-1db1-4d31-97cb-decdcffaa474",
   "metadata": {},
   "outputs": [],
   "source": [
    "# total price (product price + tax)\n",
    "customer_one_tax = customer_one_total * sales_tax\n",
    "customer_one_total += customer_one_tax"
   ]
  },
  {
   "cell_type": "code",
   "execution_count": 87,
   "id": "39cf49f9-1067-44d8-8bf0-74325950af70",
   "metadata": {},
   "outputs": [
    {
     "name": "stdout",
     "output_type": "stream",
     "text": [
      "Customer One Items: \n"
      " Lovely Loveseat. Tufted polyester blend on wood. 32 inches high x 40 inches wide x 30 inches deep. Red or white.Luxurious Lamp. Glass and iron. 36 inches tall. Brown with cream shade.\n",
      "Customer One Total: 333.09119999999996\n"
     ]
    }
   ],
   "source": [
    "# recipt\n",
    "print(\"Customer One Items:\", customer_one_itemization)\n",
    "print(\"Customer One Total:\", customer_one_total)"
   ]
  }
 ],
 "metadata": {
  "kernelspec": {
   "display_name": "Python 3 (ipykernel)",
   "language": "python",
   "name": "python3"
  },
  "language_info": {
   "codemirror_mode": {
    "name": "ipython",
    "version": 3
   },
   "file_extension": ".py",
   "mimetype": "text/x-python",
   "name": "python",
   "nbconvert_exporter": "python",
   "pygments_lexer": "ipython3",
   "version": "3.9.12"
  }
 },
 "nbformat": 4,
 "nbformat_minor": 5
}
