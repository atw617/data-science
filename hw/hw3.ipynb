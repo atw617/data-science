{
 "cells": [
  {
   "cell_type": "markdown",
   "id": "4a0321cb-6535-42b5-b27d-3fffa637b3bd",
   "metadata": {},
   "source": [
    "## Carly's Clippers"
   ]
  },
  {
   "cell_type": "code",
   "execution_count": 1,
   "id": "976d2d86-0499-41ed-b65e-c609951789ba",
   "metadata": {},
   "outputs": [],
   "source": [
    "# create hairstyles list\n",
    "hairstyles = [\"bouffant\", \"pixie\", \"dreadlocks\", \"crew\", \"bowl\", \"bob\", \"mohawk\", \"flattop\"]"
   ]
  },
  {
   "cell_type": "code",
   "execution_count": 2,
   "id": "c793d8e9-b57e-4b5d-a80d-5cbd62ce7690",
   "metadata": {},
   "outputs": [],
   "source": [
    "# create each hair style's price list\n",
    "prices = [30, 25, 40, 20, 20, 35, 50, 35]"
   ]
  },
  {
   "cell_type": "code",
   "execution_count": 3,
   "id": "47385a82-78f7-472d-b056-4108721e4c90",
   "metadata": {},
   "outputs": [],
   "source": [
    "# the number of purchases for each hairstyle type in the week\n",
    "last_week = [2, 3, 5, 8, 4, 4, 6, 2]"
   ]
  },
  {
   "cell_type": "markdown",
   "id": "3b68d99e-1a0e-462d-857f-a4d75540f8c7",
   "metadata": {},
   "source": [
    "## Prices and Cuts"
   ]
  },
  {
   "cell_type": "code",
   "execution_count": 4,
   "id": "e34b1e7d-944a-4cb5-b1f9-fc48647ef41e",
   "metadata": {},
   "outputs": [],
   "source": [
    "# create total_price as 0 (init)\n",
    "total_price = 0"
   ]
  },
  {
   "cell_type": "code",
   "execution_count": 5,
   "id": "1730486f-1d6e-4d0d-859b-12389813f9a1",
   "metadata": {},
   "outputs": [],
   "source": [
    "# set total_price as sum of prices\n",
    "for price in prices:\n",
    "    total_price += price"
   ]
  },
  {
   "cell_type": "code",
   "execution_count": 6,
   "id": "e5f86513-2413-4c14-bcfd-b49e6323f079",
   "metadata": {},
   "outputs": [
    {
     "name": "stdout",
     "output_type": "stream",
     "text": [
      "Average price is 31.875\n"
     ]
    }
   ],
   "source": [
    "# create average_price\n",
    "average_price = total_price / len(prices)\n",
    "#print it\n",
    "print('Average price is', average_price)"
   ]
  },
  {
   "cell_type": "code",
   "execution_count": 7,
   "id": "2152366f-6294-4850-a6fe-fddeb23f63b5",
   "metadata": {},
   "outputs": [
    {
     "name": "stdout",
     "output_type": "stream",
     "text": [
      "[25, 20, 35, 15, 15, 30, 45, 30]\n"
     ]
    }
   ],
   "source": [
    "# create new_prices that is cut all prcies by 5 dollors\n",
    "new_prices = [price - 5 for price in prices]\n",
    "# print it\n",
    "print(new_prices)"
   ]
  },
  {
   "cell_type": "markdown",
   "id": "1cee2f54-ae98-47f7-aa44-516aa69c740e",
   "metadata": {},
   "source": [
    "## Revenue:"
   ]
  },
  {
   "cell_type": "code",
   "execution_count": 8,
   "id": "ef68bb21-f8c4-467e-a9dd-1bef593d4887",
   "metadata": {},
   "outputs": [],
   "source": [
    "# create total_revenue as 0 (init)\n",
    "total_revenue = 0"
   ]
  },
  {
   "cell_type": "code",
   "execution_count": 13,
   "id": "590e2a94-bac5-41dd-a3c8-f02cc0d367b5",
   "metadata": {},
   "outputs": [],
   "source": [
    "# set total revenue by for loop\n",
    "for i in range(len(hairstyles)):\n",
    "    total_revenue += prices[i] * last_week[i]"
   ]
  },
  {
   "cell_type": "code",
   "execution_count": 10,
   "id": "b481bfa6-35d3-4cc1-ab74-f30774593257",
   "metadata": {},
   "outputs": [
    {
     "name": "stdout",
     "output_type": "stream",
     "text": [
      "Average daily revenue is 155.0\n"
     ]
    }
   ],
   "source": [
    "# create average_daily_revenue\n",
    "average_daily_revenue = total_revenue / 7\n",
    "# print it\n",
    "print('Average daily revenue is',average_daily_revenue)"
   ]
  },
  {
   "cell_type": "code",
   "execution_count": 14,
   "id": "ef4c4051-a94c-46d5-979d-062e1c188225",
   "metadata": {},
   "outputs": [],
   "source": [
    "# create cuts_under_30 list that consist of hair cuts that price is under 30\n",
    "cuts_under_30 = [hairstyles[i] for i in range(len(new_prices)) if new_prices[i] < 30]"
   ]
  },
  {
   "cell_type": "code",
   "execution_count": 15,
   "id": "9e3557c1-0487-4805-8961-20f785601ab4",
   "metadata": {},
   "outputs": [
    {
     "name": "stdout",
     "output_type": "stream",
     "text": [
      "['bouffant', 'pixie', 'crew', 'bowl']\n"
     ]
    }
   ],
   "source": [
    "# print it\n",
    "print(cuts_under_30)"
   ]
  }
 ],
 "metadata": {
  "kernelspec": {
   "display_name": "Python 3 (ipykernel)",
   "language": "python",
   "name": "python3"
  },
  "language_info": {
   "codemirror_mode": {
    "name": "ipython",
    "version": 3
   },
   "file_extension": ".py",
   "mimetype": "text/x-python",
   "name": "python",
   "nbconvert_exporter": "python",
   "pygments_lexer": "ipython3",
   "version": "3.9.12"
  }
 },
 "nbformat": 4,
 "nbformat_minor": 5
}
