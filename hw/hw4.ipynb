{
 "cells": [
  {
   "cell_type": "markdown",
   "id": "79c39772-3417-4a41-8371-0acac5997461",
   "metadata": {},
   "source": [
    "# 나의 조선시대 이름 찾기"
   ]
  },
  {
   "cell_type": "code",
   "execution_count": 25,
   "id": "bbc03b2a-cd7b-4e3d-8916-0a18af8116cd",
   "metadata": {},
   "outputs": [],
   "source": [
    "# create arrays\n",
    "first_name = ['쌍', '쇠', '복', '돌', '팽', '육', '쌍', '개', '칠', '갑', '삼', '방']\n",
    "second_name = ['봉', '구', '욕', '포', '똥', '삼', '식', '석', '놈', '님', '년', '돌', '단', '득', '방', '질', '장', '걸', '래', '룡', '동', '순', '자', '박', '창', '언', '것', '포', '만', '단', '국']"
   ]
  },
  {
   "cell_type": "code",
   "execution_count": 26,
   "id": "13c95c58-dba8-4fd3-ba37-bbae6ac666b4",
   "metadata": {},
   "outputs": [],
   "source": [
    "# create function name get_my_chosun_name\n",
    "def get_my_chosun_name(family_name, month, day):\n",
    "    name = family_name + first_name[month-1] + second_name[day-1]\n",
    "    print('당신의 조선시대 이름은', name+'입니다.')"
   ]
  },
  {
   "cell_type": "code",
   "execution_count": 27,
   "id": "0dd8267a-cf95-4ccb-b71e-6f15a1ce8172",
   "metadata": {},
   "outputs": [
    {
     "name": "stdout",
     "output_type": "stream",
     "text": [
      "당신의 조선시대 이름은 문육장입니다.\n"
     ]
    }
   ],
   "source": [
    "# excute function\n",
    "get_my_chosun_name('문', 6, 17)"
   ]
  }
 ],
 "metadata": {
  "kernelspec": {
   "display_name": "Python 3 (ipykernel)",
   "language": "python",
   "name": "python3"
  },
  "language_info": {
   "codemirror_mode": {
    "name": "ipython",
    "version": 3
   },
   "file_extension": ".py",
   "mimetype": "text/x-python",
   "name": "python",
   "nbconvert_exporter": "python",
   "pygments_lexer": "ipython3",
   "version": "3.9.12"
  }
 },
 "nbformat": 4,
 "nbformat_minor": 5
}
