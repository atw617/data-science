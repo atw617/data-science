{
 "cells": [
  {
   "cell_type": "markdown",
   "id": "e5cfe60b-25a4-4b8a-9f5f-30836cd109fc",
   "metadata": {},
   "source": [
    "## Create Some List"
   ]
  },
  {
   "cell_type": "code",
   "execution_count": 46,
   "id": "a3a72f9b-77b9-4b37-83a4-3e12be1432a5",
   "metadata": {},
   "outputs": [],
   "source": [
    "# create subjects and grades\n",
    "subjects = [\"physics\", \"calculus\", \"poetry\", \"history\"]\n",
    "grades = [98, 97, 85, 88]\n",
    "\n",
    "# create gradebook\n",
    "gradebook = [[\"physics\", 98], [\"calculus\", 97], [\"poetry\", 85], [\"history\", 88]]"
   ]
  },
  {
   "cell_type": "markdown",
   "id": "698d5ce1-5b9b-477c-a752-44d2921b3e06",
   "metadata": {},
   "source": [
    "## Modify The Gradebook"
   ]
  },
  {
   "cell_type": "code",
   "execution_count": 47,
   "id": "9645c2dd-51bd-415a-b33b-b1e58c14b96e",
   "metadata": {},
   "outputs": [],
   "source": [
    "# add new jubject and score (computer science, 100) to gradebook\n",
    "gradebook.append([\"coumputer science\", 100])"
   ]
  },
  {
   "cell_type": "code",
   "execution_count": 48,
   "id": "28bdcdb1-d40d-410b-8b77-429ff4545deb",
   "metadata": {},
   "outputs": [],
   "source": [
    "# add new jubject and score (visual arts, 93) to gradebook\n",
    "gradebook.append([\"visual arts\", 93])"
   ]
  },
  {
   "cell_type": "code",
   "execution_count": 49,
   "id": "06d5e2bc-f8e1-4057-b97f-54f5fa4519ca",
   "metadata": {},
   "outputs": [],
   "source": [
    "# modify the score of visual arts to be 5 points greater\n",
    "gradebook[5][1] += 5"
   ]
  },
  {
   "cell_type": "code",
   "execution_count": 50,
   "id": "5b05f150-a5fc-4460-831d-581f979420cf",
   "metadata": {},
   "outputs": [],
   "source": [
    "# remove the score of poetry\n",
    "gradebook[2].remove(85)"
   ]
  },
  {
   "cell_type": "code",
   "execution_count": 51,
   "id": "79e6c473-1b0c-4961-a830-e07a3d18eff0",
   "metadata": {},
   "outputs": [],
   "source": [
    "# add a new value(pass) to sublist where poetry class is located\n",
    "gradebook[2].append(\"Pass\")"
   ]
  },
  {
   "cell_type": "markdown",
   "id": "4319971c-a41d-4656-aa13-db1f60d6d237",
   "metadata": {},
   "source": [
    "## One Big Gradebook!"
   ]
  },
  {
   "cell_type": "code",
   "execution_count": 52,
   "id": "8acd57e1-4b78-473a-a00f-9f229cbb61b2",
   "metadata": {},
   "outputs": [],
   "source": [
    "# create a list named last_semester_gradebook\n",
    "last_semester_gradebook = [[\"politics\", 80], [\"latin\", 96], [\"dance\", 97], [\"architecture\", 65]]"
   ]
  },
  {
   "cell_type": "code",
   "execution_count": 53,
   "id": "e8d3a2e4-2d49-44d3-90b5-20c84de834f8",
   "metadata": {},
   "outputs": [
    {
     "name": "stdout",
     "output_type": "stream",
     "text": [
      "[['politics', 80], ['latin', 96], ['dance', 97], ['architecture', 65], ['physics', 98], ['calculus', 97], ['poetry', 'Pass'], ['history', 88], ['coumputer science', 100], ['visual arts', 98]]\n"
     ]
    }
   ],
   "source": [
    "# create a new list that combined last_semester_gradebook and grade book and print it\n",
    "full_gradebook = last_semester_gradebook + gradebook\n",
    "print(full_gradebook)"
   ]
  }
 ],
 "metadata": {
  "kernelspec": {
   "display_name": "Python 3 (ipykernel)",
   "language": "python",
   "name": "python3"
  },
  "language_info": {
   "codemirror_mode": {
    "name": "ipython",
    "version": 3
   },
   "file_extension": ".py",
   "mimetype": "text/x-python",
   "name": "python",
   "nbconvert_exporter": "python",
   "pygments_lexer": "ipython3",
   "version": "3.9.12"
  }
 },
 "nbformat": 4,
 "nbformat_minor": 5
}
